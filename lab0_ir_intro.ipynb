{
 "cells": [
  {
   "cell_type": "markdown",
   "metadata": {
    "slideshow": {
     "slide_type": "slide"
    }
   },
   "source": [
    "# Information Retrieval"
   ]
  },
  {
   "cell_type": "markdown",
   "metadata": {},
   "source": [
    "Information retrieval (IR) is finding material (usually documents) of an unstructured nature (usually text) that satisfies an information need from within large collections (usually stored on computers)."
   ]
  },
  {
   "cell_type": "markdown",
   "metadata": {},
   "source": [
    "![Sort-Based-Index](img/treclogo-c.gif)"
   ]
  },
  {
   "cell_type": "markdown",
   "metadata": {},
   "source": [
    "## Contact Details\n",
    "\n",
    "Boris Velichkov\n",
    "\n",
    "Dimitar Dimitrov:\n",
    "mitko.bg.ss@gmail.com /\n",
    "ilijanovd@fmi.uni-sofia.bg \n",
    "\n",
    "Aleksis Datseris\n",
    "\n",
    "## Information Retrieval - what is it about & what do you gain from it?\n",
    "* Introductory course about finding relevant information within large collections of *unstructured* data.\n",
    "* The course explores the core concepts behind search engines\n",
    "* Builds the foundation for advanced fields like NLP, recommender systems, and AI-driven information systems\n",
    "* *Specific to our course* -> You will learn Python basics which will be used in future courses. *Recommendation:* Enroll in the Python Basics course to enhance your proficiency in Python.\n",
    "\n",
    "\n",
    "## What is the agenda for practical lessons ?\n",
    "\n",
    "* Course Intro\n",
    "* Intro to Python (Basic)\n",
    "* Text processing (Basic)\n",
    "* Indexing - Inverted Index \n",
    "* TF-IDF & Ranking \n",
    "* Metrics - Evaluation, Analysis \n",
    "* Web crawling/scraping \n",
    "* Spell-checking & Keyword extraction \n",
    "* Summarization - Extractive & Abstractive \n",
    "* Classification (Features) - NB & Logistic Regression \n",
    "* Language models (Extra)\n",
    "* Course project idea discussion\n",
    "    * Every practical lesson is potentially a project idea discussion!!!\n",
    "* Course project idea presentation"
   ]
  },
  {
   "cell_type": "markdown",
   "metadata": {},
   "source": [
    "## Course dynamics - why does it matter?\n",
    "* No more chasing, now it is your turn.\n",
    "* Questions and discussions are always welcome.\n",
    "* Try to attend practical lessons at the very least. We always share personal experiances which ChatGPT cannot tell you about!\n",
    "\n",
    "## **Start thinking about your project early. It will save you a lot of time.**\n",
    "* Choosing your project topic early always yelds better results. Why? Because there is time to discuss!\n",
    "* Aim to do something you have not done before. \n",
    "* Set high goals and complete what you can. We do not penalize effort, regardless of the end results.\n",
    "* You can choose your own course project topic...\n",
    "* ... Or you can come to us for suggestions. "
   ]
  },
  {
   "cell_type": "markdown",
   "metadata": {},
   "source": [
    "# Conferences\n",
    "\n",
    "Special Interest Group on Information Retrieval: <a href='https://sigir.org'>SIGIR</a> <br>\n",
    "Text REtrieval Conference: <a href='https://trec.nist.gov/proceedings/proceedings.html'>TREC</a>  <br>\n",
    "European Conference on Information Retrieval: <a href='http://www.ecir2018.org/'>ECIR</a>  <br>\n",
    "Conference and Labs of the Evaluation Forum: <a href='https://www.clef-initiative.eu/'>CLEF</a>  <br>\n"
   ]
  },
  {
   "cell_type": "markdown",
   "metadata": {},
   "source": [
    "# Example papers:\n",
    "<ul>\n",
    "<li><a href='http://nrl.northumbria.ac.uk/30863/1/SIGIR2017_Elsweiler.pdf'>Exploiting Food Choice Biases for Healthier <b>Recipe Recommendation</b></a> -> dataset of food reciped with nutrition information crawled from Allrecipes.com\n",
    "<li>CitySearcher: A <b>City Search</b> Engine For Interests \n",
    "<li>A Test Collection for Evaluating <b>Legal Case Law Search</b>\n",
    "<li>Multihop Attention Networks for <b>Question Answer Matching</b>\n",
    "<li>Semantic Location in <b>Email Query Suggestion</b>\n",
    "<li>Online <b>Job Search</b>: Study of Users’ Search Behavior using Search Engine Query Logs\t\n",
    "</ul>"
   ]
  },
  {
   "cell_type": "markdown",
   "metadata": {},
   "source": [
    "# Most Valued Projects:\n",
    "\n",
    "- Something Useful for Sofia University, the Master's Degree, etc. (contact Prof. Koychev)\n",
    "- Participating in Shared Tasks (contact us or Prof. Koychev)\n",
    "\n",
    "## Some project ideas\n",
    "- Grammarly or [Hemingway](http://www.hemingwayapp.com/) for Bulgarian\n",
    "- !!!Collect/crawl questions and answers from exams after 4th/12th grade (there are a lot of on-line resources!). This will serve as a good stating point for building a Machine Reading/Question Answering model for Bulgarian!"
   ]
  },
  {
   "cell_type": "markdown",
   "metadata": {},
   "source": [
    "# Some Shared Tasks\n",
    "\n",
    "## <a href='http://alt.qcri.org/semeval2019/index.php?id=tasks'>SemEval</a>\n",
    "- Fact Checking in Community Question Answering Forums\n",
    "- Suggestion Mining from Online Reviews and Forums\n",
    "- RumourEval 2019: Determining Rumour Veracity and Support for Rumours\n",
    "- many more\n",
    "\n",
    "# CheckThat!"
   ]
  },
  {
   "cell_type": "markdown",
   "metadata": {},
   "source": [
    "# Basic (pre-)requisites\n",
    "\n",
    "## Python basics:\n",
    "- http://nbviewer.jupyter.org/github/justmarkham/python-reference/blob/master/reference.ipynb\n",
    "- https://www.cs.put.poznan.pl/csobaniec/software/python/py-qrc.html\n",
    "- https://www.stavros.io/tutorials/python/\n",
    "\n",
    "## Jupyter Notebooks\n",
    "- https://www.dataquest.io/blog/jupyter-notebook-tutorial/\n",
    "\n",
    "## Text Processing Libraries\n",
    "- NLTK - collection of libraries and tools for text processing, created by academics (not production ready)\n",
    "- Spacy - Industrial-Strength Natural Language Processing\n",
    "- scikit-learn - Machine Learning in Python\n",
    "- Pandas - Structures and data analysis tools for Python\n",
    "- Numpy - scientific computing with Python\n",
    "- Keras, TensorFlow, Pytorch- deep learning libraries for Python"
   ]
  },
  {
   "cell_type": "markdown",
   "metadata": {},
   "source": [
    "# Books:\n",
    "## Information Retrieval \n",
    "- Book for the course : https://nlp.stanford.edu/IR-book/information-retrieval-book.html\n",
    "## NLP\n",
    "- Foundations of Statistical Natural Language Processing https://nlp.stanford.edu/fsnlp/\n",
    "- Speech and Language Processing (you can find also Youtube videos https://web.stanford.edu/~jurafsky/slp3/ )"
   ]
  },
  {
   "cell_type": "markdown",
   "metadata": {},
   "source": [
    "# Online sources\n",
    "\n",
    "## Search for papers to find relevant work and existing approaches\n",
    "- https://scholar.google.com/\n",
    "- https://www.researchgate.net/\n",
    "\n",
    "## Corpora\n",
    "- https://toolbox.google.com/datasetsearch\n",
    "- https://www.kaggle.com/\n",
    "- https://archive.ics.uci.edu/ml/datasets.html\n",
    "\n",
    "## Facebook groups\n",
    "- https://www.facebook.com/groups/1034542806576291/\n",
    "- https://www.facebook.com/groups/829586007120477/\n",
    "- https://www.facebook.com/groups/machine.learning.bg/\n",
    "- https://www.facebook.com/datasciencesoc/\n",
    "\n",
    "## Misc\n",
    "- https://www.kdnuggets.com/\n",
    "- https://machinelearningmastery.com/start-here/\n",
    "- https://nlpprogress.com/ - latest research in NLP\n",
    "- https://paperswithcode.com/ - implementations of papers"
   ]
  }
 ],
 "metadata": {
  "kernelspec": {
   "display_name": "Python 3 (ipykernel)",
   "language": "python",
   "name": "python3"
  },
  "language_info": {
   "codemirror_mode": {
    "name": "ipython",
    "version": 3
   },
   "file_extension": ".py",
   "mimetype": "text/x-python",
   "name": "python",
   "nbconvert_exporter": "python",
   "pygments_lexer": "ipython3",
   "version": "3.12.4"
  },
  "toc": {
   "base_numbering": 1,
   "nav_menu": {},
   "number_sections": true,
   "sideBar": true,
   "skip_h1_title": false,
   "title_cell": "Table of Contents",
   "title_sidebar": "Contents",
   "toc_cell": false,
   "toc_position": {},
   "toc_section_display": true,
   "toc_window_display": false
  }
 },
 "nbformat": 4,
 "nbformat_minor": 4
}
