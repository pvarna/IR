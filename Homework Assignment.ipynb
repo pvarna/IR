{
 "cells": [
  {
   "attachments": {},
   "cell_type": "markdown",
   "id": "32f77007-6376-4eef-b5b3-c60f1ae924b9",
   "metadata": {},
   "source": [
    "# Homework assignment\n",
    "\n",
    "## Name: mini-course-project\n",
    "\n",
    "\n",
    "Realize a **simple** application that does **ONE** of the following:\n",
    "* Using a search engine - Elasticsearch, Apache Solr, OpenSearch, etc, import(?) a collection of documents and demonstrate basic search functionality\n",
    "* Using a classic text summarization approach(?), generate summaries of a collection of documents, demonstrate basic functionality\n",
    "* Using a popular crawling/scraping tool or library collect documents similar to another collection of documents, demonstrate basic functionality\n",
    "* Think of another Information retrieval problem and a practical small app that solves it *(if the problem is big it is enough to solve a part of it as long as it is separable from the main problem)*, demonstrate basic functionality\n",
    "\n",
    "**Deadline:** Last lab of the semester \n",
    "\n",
    "**No teams allowed. This is a personal assignment!!**\n",
    "\n",
    "**Collection of documents:** https://propaganda.math.unipd.it/semeval2025task10/ - Register on the website and you will receive access to download dataset. \n",
    "\n",
    "**Crawling websites:** 24chasa, novini-vratsa, bnr-BG, bgonair, business-bg, bnr-BG, investor, sega, dnesplus, bnews, pravda-bg, pik, trud-BG, plovdivnews, svobodnoslovo, and many more can be provided upon request \n",
    "\n",
    "**Submission format:** submit .zip of the used code + short 1-2 minute video to demonstrate functionality\n",
    "\n",
    "**Submission file list example:**\n",
    "* 4MI3010212_code.zip\n",
    "* 4MI3010212_video.mp4\n",
    "* (team) 4MI3010212_4MI4002212_code.zip\n",
    "* (team) 4MI3010212_4MI4002212_video.mp4\n",
    "\n",
    "**Submission location:** FMI moodle IR course. Submission item will be opened at least a few weeks before the deadline. Link: TBA"
   ]
  },
  {
   "cell_type": "code",
   "execution_count": null,
   "id": "fed84148-5a18-4703-b56e-f75021cdbe2c",
   "metadata": {},
   "outputs": [],
   "source": []
  }
 ],
 "metadata": {
  "kernelspec": {
   "display_name": "Python 3 (ipykernel)",
   "language": "python",
   "name": "python3"
  },
  "language_info": {
   "codemirror_mode": {
    "name": "ipython",
    "version": 3
   },
   "file_extension": ".py",
   "mimetype": "text/x-python",
   "name": "python",
   "nbconvert_exporter": "python",
   "pygments_lexer": "ipython3",
   "version": "3.12.4"
  }
 },
 "nbformat": 4,
 "nbformat_minor": 5
}
